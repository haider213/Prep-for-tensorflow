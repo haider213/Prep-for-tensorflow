{
 "cells": [
  {
   "cell_type": "markdown",
   "metadata": {},
   "source": [
    "# Explainable AI Cancer Data Set Example \n",
    "The book that this notebook is implementing is available at: https://christophm.github.io/interpretable-ml-book/"
   ]
  },
  {
   "cell_type": "markdown",
   "metadata": {},
   "source": [
    "# Import Relevant libraries"
   ]
  },
  {
   "cell_type": "code",
   "execution_count": 1,
   "metadata": {},
   "outputs": [],
   "source": [
    "#importing pandas to read the CSV file. The CSV file can be downloaded from the link UCI- Machine Learning Laboratory \n",
    "#The link to download the data is https://archive.ics.uci.edu/ml/datasets/Cervical+cancer+%28Risk+Factors%29\n",
    "#Download the data set and \n",
    "# put it in the same folder as this file \n",
    "import pandas as pd \n",
    "import tensorflow as tf \n",
    "from tensorflow import keras\n",
    "from sklearn import linear_model\n",
    "import numpy as np\n",
    "from sklearn.model_selection import train_test_split\n",
    "from sklearn.metrics import mean_squared_error, r2_score\n",
    "from scipy import stats\n",
    "from sklearn.preprocessing import normalize\n",
    "import matplotlib.pyplot as plt\n",
    "from sklearn import preprocessing\n",
    "from sklearn.linear_model import LogisticRegression"
   ]
  },
  {
   "cell_type": "markdown",
   "metadata": {},
   "source": [
    "# Data Properties:\n",
    "The cervical cancer dataset contains indicators and risk factors for predicting whether a woman will get cervical cancer. The features include demographic data (such as age), lifestyle, and medical history. \n",
    "The subset of data features used in the book's examples are:\n",
    "\n",
    "- Age in years\n",
    "- Number of sexual partners\n",
    "- First sexual intercourse (age in years)\n",
    "- Number of pregnancies\n",
    "- Smoking yes or no\n",
    "- Smoking (in years)\n",
    "- Hormonal contraceptives yes or no\n",
    "- Hormonal contraceptives (in years)\n",
    "- Intrauterine device yes or no (IUD)\n",
    "- Number of years with an intrauterine device (IUD)\n",
    "- Has patient ever had a sexually transmitted disease (STD) yes or no\n",
    "- Number of STD diagnoses\n",
    "- Time since first STD diagnosis\n",
    "- Time since last STD diagnosis\n",
    "- The biopsy results \"Healthy\" or \"Cancer\". Target outcome."
   ]
  },
  {
   "cell_type": "code",
   "execution_count": 23,
   "metadata": {},
   "outputs": [
    {
     "ename": "ParserError",
     "evalue": "Error tokenizing data. C error: Expected 1 fields in line 47, saw 2\n",
     "output_type": "error",
     "traceback": [
      "\u001b[0;31m---------------------------------------------------------------------------\u001b[0m",
      "\u001b[0;31mParserError\u001b[0m                               Traceback (most recent call last)",
      "\u001b[0;32m<ipython-input-23-00ae5a19d925>\u001b[0m in \u001b[0;36m<module>\u001b[0;34m\u001b[0m\n\u001b[1;32m      1\u001b[0m \u001b[0;31m#importing data into a data frame\u001b[0m\u001b[0;34m\u001b[0m\u001b[0;34m\u001b[0m\u001b[0;34m\u001b[0m\u001b[0m\n\u001b[0;32m----> 2\u001b[0;31m \u001b[0mcancer_data_pd\u001b[0m\u001b[0;34m=\u001b[0m\u001b[0mpd\u001b[0m\u001b[0;34m.\u001b[0m\u001b[0mread_csv\u001b[0m\u001b[0;34m(\u001b[0m\u001b[0;34m'https://github.com/christophM/interpretable-ml-book/blob/master/data/cervical.csv'\u001b[0m\u001b[0;34m)\u001b[0m\u001b[0;34m\u001b[0m\u001b[0;34m\u001b[0m\u001b[0m\n\u001b[0m\u001b[1;32m      3\u001b[0m \u001b[0mcancer_data_pd\u001b[0m\u001b[0;34m.\u001b[0m\u001b[0mshape\u001b[0m\u001b[0;34m\u001b[0m\u001b[0;34m\u001b[0m\u001b[0m\n",
      "\u001b[0;32m/opt/anaconda3/lib/python3.7/site-packages/pandas/io/parsers.py\u001b[0m in \u001b[0;36mparser_f\u001b[0;34m(filepath_or_buffer, sep, delimiter, header, names, index_col, usecols, squeeze, prefix, mangle_dupe_cols, dtype, engine, converters, true_values, false_values, skipinitialspace, skiprows, skipfooter, nrows, na_values, keep_default_na, na_filter, verbose, skip_blank_lines, parse_dates, infer_datetime_format, keep_date_col, date_parser, dayfirst, cache_dates, iterator, chunksize, compression, thousands, decimal, lineterminator, quotechar, quoting, doublequote, escapechar, comment, encoding, dialect, error_bad_lines, warn_bad_lines, delim_whitespace, low_memory, memory_map, float_precision)\u001b[0m\n\u001b[1;32m    674\u001b[0m         )\n\u001b[1;32m    675\u001b[0m \u001b[0;34m\u001b[0m\u001b[0m\n\u001b[0;32m--> 676\u001b[0;31m         \u001b[0;32mreturn\u001b[0m \u001b[0m_read\u001b[0m\u001b[0;34m(\u001b[0m\u001b[0mfilepath_or_buffer\u001b[0m\u001b[0;34m,\u001b[0m \u001b[0mkwds\u001b[0m\u001b[0;34m)\u001b[0m\u001b[0;34m\u001b[0m\u001b[0;34m\u001b[0m\u001b[0m\n\u001b[0m\u001b[1;32m    677\u001b[0m \u001b[0;34m\u001b[0m\u001b[0m\n\u001b[1;32m    678\u001b[0m     \u001b[0mparser_f\u001b[0m\u001b[0;34m.\u001b[0m\u001b[0m__name__\u001b[0m \u001b[0;34m=\u001b[0m \u001b[0mname\u001b[0m\u001b[0;34m\u001b[0m\u001b[0;34m\u001b[0m\u001b[0m\n",
      "\u001b[0;32m/opt/anaconda3/lib/python3.7/site-packages/pandas/io/parsers.py\u001b[0m in \u001b[0;36m_read\u001b[0;34m(filepath_or_buffer, kwds)\u001b[0m\n\u001b[1;32m    452\u001b[0m \u001b[0;34m\u001b[0m\u001b[0m\n\u001b[1;32m    453\u001b[0m     \u001b[0;32mtry\u001b[0m\u001b[0;34m:\u001b[0m\u001b[0;34m\u001b[0m\u001b[0;34m\u001b[0m\u001b[0m\n\u001b[0;32m--> 454\u001b[0;31m         \u001b[0mdata\u001b[0m \u001b[0;34m=\u001b[0m \u001b[0mparser\u001b[0m\u001b[0;34m.\u001b[0m\u001b[0mread\u001b[0m\u001b[0;34m(\u001b[0m\u001b[0mnrows\u001b[0m\u001b[0;34m)\u001b[0m\u001b[0;34m\u001b[0m\u001b[0;34m\u001b[0m\u001b[0m\n\u001b[0m\u001b[1;32m    455\u001b[0m     \u001b[0;32mfinally\u001b[0m\u001b[0;34m:\u001b[0m\u001b[0;34m\u001b[0m\u001b[0;34m\u001b[0m\u001b[0m\n\u001b[1;32m    456\u001b[0m         \u001b[0mparser\u001b[0m\u001b[0;34m.\u001b[0m\u001b[0mclose\u001b[0m\u001b[0;34m(\u001b[0m\u001b[0;34m)\u001b[0m\u001b[0;34m\u001b[0m\u001b[0;34m\u001b[0m\u001b[0m\n",
      "\u001b[0;32m/opt/anaconda3/lib/python3.7/site-packages/pandas/io/parsers.py\u001b[0m in \u001b[0;36mread\u001b[0;34m(self, nrows)\u001b[0m\n\u001b[1;32m   1131\u001b[0m     \u001b[0;32mdef\u001b[0m \u001b[0mread\u001b[0m\u001b[0;34m(\u001b[0m\u001b[0mself\u001b[0m\u001b[0;34m,\u001b[0m \u001b[0mnrows\u001b[0m\u001b[0;34m=\u001b[0m\u001b[0;32mNone\u001b[0m\u001b[0;34m)\u001b[0m\u001b[0;34m:\u001b[0m\u001b[0;34m\u001b[0m\u001b[0;34m\u001b[0m\u001b[0m\n\u001b[1;32m   1132\u001b[0m         \u001b[0mnrows\u001b[0m \u001b[0;34m=\u001b[0m \u001b[0m_validate_integer\u001b[0m\u001b[0;34m(\u001b[0m\u001b[0;34m\"nrows\"\u001b[0m\u001b[0;34m,\u001b[0m \u001b[0mnrows\u001b[0m\u001b[0;34m)\u001b[0m\u001b[0;34m\u001b[0m\u001b[0;34m\u001b[0m\u001b[0m\n\u001b[0;32m-> 1133\u001b[0;31m         \u001b[0mret\u001b[0m \u001b[0;34m=\u001b[0m \u001b[0mself\u001b[0m\u001b[0;34m.\u001b[0m\u001b[0m_engine\u001b[0m\u001b[0;34m.\u001b[0m\u001b[0mread\u001b[0m\u001b[0;34m(\u001b[0m\u001b[0mnrows\u001b[0m\u001b[0;34m)\u001b[0m\u001b[0;34m\u001b[0m\u001b[0;34m\u001b[0m\u001b[0m\n\u001b[0m\u001b[1;32m   1134\u001b[0m \u001b[0;34m\u001b[0m\u001b[0m\n\u001b[1;32m   1135\u001b[0m         \u001b[0;31m# May alter columns / col_dict\u001b[0m\u001b[0;34m\u001b[0m\u001b[0;34m\u001b[0m\u001b[0;34m\u001b[0m\u001b[0m\n",
      "\u001b[0;32m/opt/anaconda3/lib/python3.7/site-packages/pandas/io/parsers.py\u001b[0m in \u001b[0;36mread\u001b[0;34m(self, nrows)\u001b[0m\n\u001b[1;32m   2035\u001b[0m     \u001b[0;32mdef\u001b[0m \u001b[0mread\u001b[0m\u001b[0;34m(\u001b[0m\u001b[0mself\u001b[0m\u001b[0;34m,\u001b[0m \u001b[0mnrows\u001b[0m\u001b[0;34m=\u001b[0m\u001b[0;32mNone\u001b[0m\u001b[0;34m)\u001b[0m\u001b[0;34m:\u001b[0m\u001b[0;34m\u001b[0m\u001b[0;34m\u001b[0m\u001b[0m\n\u001b[1;32m   2036\u001b[0m         \u001b[0;32mtry\u001b[0m\u001b[0;34m:\u001b[0m\u001b[0;34m\u001b[0m\u001b[0;34m\u001b[0m\u001b[0m\n\u001b[0;32m-> 2037\u001b[0;31m             \u001b[0mdata\u001b[0m \u001b[0;34m=\u001b[0m \u001b[0mself\u001b[0m\u001b[0;34m.\u001b[0m\u001b[0m_reader\u001b[0m\u001b[0;34m.\u001b[0m\u001b[0mread\u001b[0m\u001b[0;34m(\u001b[0m\u001b[0mnrows\u001b[0m\u001b[0;34m)\u001b[0m\u001b[0;34m\u001b[0m\u001b[0;34m\u001b[0m\u001b[0m\n\u001b[0m\u001b[1;32m   2038\u001b[0m         \u001b[0;32mexcept\u001b[0m \u001b[0mStopIteration\u001b[0m\u001b[0;34m:\u001b[0m\u001b[0;34m\u001b[0m\u001b[0;34m\u001b[0m\u001b[0m\n\u001b[1;32m   2039\u001b[0m             \u001b[0;32mif\u001b[0m \u001b[0mself\u001b[0m\u001b[0;34m.\u001b[0m\u001b[0m_first_chunk\u001b[0m\u001b[0;34m:\u001b[0m\u001b[0;34m\u001b[0m\u001b[0;34m\u001b[0m\u001b[0m\n",
      "\u001b[0;32mpandas/_libs/parsers.pyx\u001b[0m in \u001b[0;36mpandas._libs.parsers.TextReader.read\u001b[0;34m()\u001b[0m\n",
      "\u001b[0;32mpandas/_libs/parsers.pyx\u001b[0m in \u001b[0;36mpandas._libs.parsers.TextReader._read_low_memory\u001b[0;34m()\u001b[0m\n",
      "\u001b[0;32mpandas/_libs/parsers.pyx\u001b[0m in \u001b[0;36mpandas._libs.parsers.TextReader._read_rows\u001b[0;34m()\u001b[0m\n",
      "\u001b[0;32mpandas/_libs/parsers.pyx\u001b[0m in \u001b[0;36mpandas._libs.parsers.TextReader._tokenize_rows\u001b[0;34m()\u001b[0m\n",
      "\u001b[0;32mpandas/_libs/parsers.pyx\u001b[0m in \u001b[0;36mpandas._libs.parsers.raise_parser_error\u001b[0;34m()\u001b[0m\n",
      "\u001b[0;31mParserError\u001b[0m: Error tokenizing data. C error: Expected 1 fields in line 47, saw 2\n"
     ]
    }
   ],
   "source": [
    "#importing data into a data frame\n",
    "cancer_data_pd=pd.read_csv('https://github.com/christophM/interpretable-ml-book/blob/master/data/cervical.csv')\n",
    "cancer_data_pd.shape"
   ]
  },
  {
   "cell_type": "code",
   "execution_count": null,
   "metadata": {},
   "outputs": [],
   "source": [
    "#displaying feature names \n",
    "cancer_data_pd.all()"
   ]
  },
  {
   "cell_type": "code",
   "execution_count": 4,
   "metadata": {},
   "outputs": [],
   "source": [
    "#features used by the book\n",
    "feature_names=['Age','Number of sexual partners','Num of pregnancies','Smokes','Smokes (years)','Hormonal Contraceptives','Hormonal Contraceptives (years)','IUD','STDs','STDs (number)','STDs: Time since first diagnosis','STDs: Time since last diagnosis','Biopsy']"
   ]
  },
  {
   "cell_type": "code",
   "execution_count": 5,
   "metadata": {},
   "outputs": [
    {
     "data": {
      "text/plain": [
       "['Age',\n",
       " 'Number of sexual partners',\n",
       " 'Num of pregnancies',\n",
       " 'Smokes',\n",
       " 'Smokes (years)',\n",
       " 'Hormonal Contraceptives',\n",
       " 'Hormonal Contraceptives (years)',\n",
       " 'IUD',\n",
       " 'STDs',\n",
       " 'STDs (number)',\n",
       " 'STDs: Time since first diagnosis',\n",
       " 'STDs: Time since last diagnosis',\n",
       " 'Biopsy']"
      ]
     },
     "execution_count": 5,
     "metadata": {},
     "output_type": "execute_result"
    }
   ],
   "source": [
    "#displaying the book features\n",
    "feature_names"
   ]
  },
  {
   "cell_type": "code",
   "execution_count": 6,
   "metadata": {},
   "outputs": [
    {
     "data": {
      "text/plain": [
       "(858, 13)"
      ]
     },
     "execution_count": 6,
     "metadata": {},
     "output_type": "execute_result"
    }
   ],
   "source": [
    "#creating a new pandas data frame \n",
    "cancer_data_book_pd=cancer_data_pd[feature_names]\n",
    "cancer_data_book_np=cancer_data_book_pd.to_numpy()\n",
    "cancer_data_book_np.shape"
   ]
  },
  {
   "cell_type": "markdown",
   "metadata": {},
   "source": [
    "# Making a Logistic Regression Model\n",
    "- Define Model \n",
    "- Split Data \n",
    "- Apply Model \n",
    "- Check accracy "
   ]
  },
  {
   "cell_type": "code",
   "execution_count": 23,
   "metadata": {},
   "outputs": [
    {
     "ename": "TypeError",
     "evalue": "fit() missing 1 required positional argument: 'y'",
     "output_type": "error",
     "traceback": [
      "\u001b[0;31m---------------------------------------------------------------------------\u001b[0m",
      "\u001b[0;31mTypeError\u001b[0m                                 Traceback (most recent call last)",
      "\u001b[0;32m<ipython-input-23-6184bedbec09>\u001b[0m in \u001b[0;36m<module>\u001b[0;34m\u001b[0m\n\u001b[1;32m     15\u001b[0m \u001b[0mX_train\u001b[0m\u001b[0;34m,\u001b[0m \u001b[0mX_test\u001b[0m\u001b[0;34m,\u001b[0m \u001b[0my_train\u001b[0m\u001b[0;34m,\u001b[0m \u001b[0my_test\u001b[0m \u001b[0;34m=\u001b[0m \u001b[0mtrain_test_split\u001b[0m\u001b[0;34m(\u001b[0m\u001b[0mX\u001b[0m\u001b[0;34m,\u001b[0m \u001b[0mY\u001b[0m\u001b[0;34m,\u001b[0m \u001b[0mtest_size\u001b[0m\u001b[0;34m=\u001b[0m\u001b[0;36m0.33\u001b[0m\u001b[0;34m,\u001b[0m \u001b[0mrandom_state\u001b[0m\u001b[0;34m=\u001b[0m\u001b[0;36m42\u001b[0m\u001b[0;34m)\u001b[0m\u001b[0;34m\u001b[0m\u001b[0;34m\u001b[0m\u001b[0m\n\u001b[1;32m     16\u001b[0m \u001b[0;31m#fitting the model\u001b[0m\u001b[0;34m\u001b[0m\u001b[0;34m\u001b[0m\u001b[0;34m\u001b[0m\u001b[0m\n\u001b[0;32m---> 17\u001b[0;31m \u001b[0mreg\u001b[0m\u001b[0;34m.\u001b[0m\u001b[0mfit\u001b[0m\u001b[0;34m(\u001b[0m\u001b[0mX\u001b[0m\u001b[0;34m,\u001b[0m\u001b[0mY\u001b[0m\u001b[0;34m)\u001b[0m\u001b[0;34m\u001b[0m\u001b[0;34m\u001b[0m\u001b[0m\n\u001b[0m\u001b[1;32m     18\u001b[0m \u001b[0;31m#Predicting the values\u001b[0m\u001b[0;34m\u001b[0m\u001b[0;34m\u001b[0m\u001b[0;34m\u001b[0m\u001b[0m\n\u001b[1;32m     19\u001b[0m \u001b[0my_pred\u001b[0m \u001b[0;34m=\u001b[0m \u001b[0mreg\u001b[0m\u001b[0;34m.\u001b[0m\u001b[0mpredict\u001b[0m\u001b[0;34m(\u001b[0m\u001b[0mX_test\u001b[0m\u001b[0;34m)\u001b[0m\u001b[0;34m\u001b[0m\u001b[0;34m\u001b[0m\u001b[0m\n",
      "\u001b[0;31mTypeError\u001b[0m: fit() missing 1 required positional argument: 'y'"
     ]
    }
   ],
   "source": [
    "#defining a regressor\n",
    "reg= LogisticRegression\n",
    "#predicting count based on all other features \n",
    "#Converting the df into a numpy array \n",
    "#X represents the input features \n",
    "#Y represents the Ouput features \n",
    "\n",
    "\n",
    "#Spliting into input and output features\n",
    "\n",
    "X=cancer_data_book_np[:,:12]\n",
    "Y=cancer_data_book_np[:,12]\n",
    "#X=normalize(X)\n",
    "#Splitting the data into training and testing \n",
    "X_train, X_test, y_train, y_test = train_test_split(X, Y, test_size=0.33, random_state=42)\n",
    "#fitting the model \n",
    "reg.fit(X,Y)\n",
    "#Predicting the values \n",
    "y_pred = reg.predict(X_test)\n",
    "#As it is already intrepretable we just look at the weights within the model\n",
    "\n",
    "\n"
   ]
  },
  {
   "cell_type": "code",
   "execution_count": 19,
   "metadata": {},
   "outputs": [
    {
     "data": {
      "text/plain": [
       "array(['4.0', '1.0', '1.0', '5.0', '3.0', '3.0', '3.0', '1.0', '1.0',\n",
       "       '3.0', '3.0', '1.0', '4.0', '2.0', '2.0', '3.0', '4.0', '3.0',\n",
       "       '2.0', '2.0', '2.0', '3.0', '1.0', '1.0', '3.0', '3.0', '5.0',\n",
       "       '2.0', '3.0', '6.0', '3.0', '2.0', '3.0', '3.0', '2.0', '3.0',\n",
       "       '2.0', '?', '1.0', '2.0', '?', '2.0', '3.0', '3.0', '3.0', '1.0',\n",
       "       '2.0', '2.0', '2.0', '3.0', '3.0', '2.0', '5.0', '3.0', '1.0',\n",
       "       '4.0', '5.0', '3.0', '2.0', '3.0', '3.0', '3.0', '1.0', '1.0',\n",
       "       '2.0', '3.0', '3.0', '4.0', '3.0', '5.0', '4.0', '?', '2.0', '2.0',\n",
       "       '2.0', '2.0', '5.0', '3.0', '3.0', '2.0', '1.0', '3.0', '2.0',\n",
       "       '3.0', '2.0', '1.0', '2.0', '5.0', '3.0', '1.0', '1.0', '3.0',\n",
       "       '4.0', '1.0', '3.0', '4.0', '5.0', '1.0', '1.0', '3.0', '3.0',\n",
       "       '5.0', '3.0', '3.0', '2.0', '4.0', '4.0', '5.0', '2.0', '2.0',\n",
       "       '3.0', '7.0', '3.0', '5.0', '3.0', '3.0', '3.0', '3.0', '2.0',\n",
       "       '3.0', '1.0', '5.0', '3.0', '5.0', '3.0', '3.0', '2.0', '2.0',\n",
       "       '1.0', '2.0', '2.0', '?', '2.0', '4.0', '3.0', '3.0', '2.0', '4.0',\n",
       "       '1.0', '2.0', '1.0', '3.0', '3.0', '1.0', '2.0', '3.0', '4.0',\n",
       "       '4.0', '3.0', '3.0', '2.0', '1.0', '3.0', '2.0', '2.0', '4.0',\n",
       "       '1.0', '?', '2.0', '2.0', '2.0', '2.0', '1.0', '5.0', '?', '3.0',\n",
       "       '1.0', '2.0', '4.0', '3.0', '3.0', '2.0', '2.0', '3.0', '3.0',\n",
       "       '1.0', '1.0', '3.0', '4.0', '1.0', '2.0', '2.0', '3.0', '2.0',\n",
       "       '1.0', '2.0', '15.0', '3.0', '5.0', '2.0', '8.0', '3.0', '2.0',\n",
       "       '10.0', '4.0', '2.0', '3.0', '5.0', '1.0', '2.0', '7.0', '4.0',\n",
       "       '2.0', '2.0', '1.0', '3.0', '2.0', '3.0', '4.0', '3.0', '5.0',\n",
       "       '1.0', '3.0', '3.0', '1.0', '1.0', '3.0', '1.0', '3.0', '4.0', '?',\n",
       "       '?', '1.0', '1.0', '2.0', '6.0', '1.0', '4.0', '2.0', '3.0', '2.0',\n",
       "       '3.0', '3.0', '2.0', '?', '2.0', '2.0', '2.0', '4.0', '3.0', '1.0',\n",
       "       '2.0', '1.0', '6.0', '3.0', '1.0', '2.0', '1.0', '2.0', '3.0',\n",
       "       '2.0', '1.0', '2.0', '1.0', '3.0', '2.0', '4.0', '3.0', '5.0',\n",
       "       '8.0', '2.0', '2.0', '2.0', '2.0', '2.0', '?', '2.0', '2.0', '2.0',\n",
       "       '1.0', '1.0', '3.0', '?', '3.0', '2.0', '3.0', '4.0', '1.0', '2.0',\n",
       "       '2.0', '2.0', '4.0', '1.0', '3.0', '1.0', '2.0', '4.0', '3.0',\n",
       "       '2.0', '2.0', '1.0', '1.0', '2.0', '1.0', '1.0', '1.0', '3.0',\n",
       "       '1.0', '1.0', '3.0', '2.0', '?', '4.0', '3.0', '?', '5.0', '3.0',\n",
       "       '1.0', '2.0', '4.0', '2.0', '4.0', '2.0', '5.0', '1.0', '3.0',\n",
       "       '2.0', '1.0', '2.0', '1.0', '3.0', '2.0', '2.0', '2.0', '?', '1.0',\n",
       "       '1.0', '2.0', '4.0', '1.0', '1.0', '1.0', '1.0', '3.0', '2.0',\n",
       "       '2.0', '1.0', '2.0', '5.0', '2.0', '3.0', '1.0', '2.0', '1.0',\n",
       "       '1.0', '4.0', '4.0', '2.0', '1.0', '3.0', '1.0', '4.0', '4.0',\n",
       "       '2.0', '2.0', '3.0', '1.0', '2.0', '1.0', '2.0', '1.0', '4.0',\n",
       "       '1.0', '1.0', '3.0', '2.0', '3.0', '1.0', '?', '1.0', '4.0', '4.0',\n",
       "       '5.0', '2.0', '5.0', '1.0', '3.0', '2.0', '2.0', '2.0', '3.0',\n",
       "       '3.0', '5.0', '2.0', '1.0', '3.0', '2.0', '2.0', '3.0', '1.0',\n",
       "       '2.0', '?', '1.0', '3.0', '2.0', '1.0', '3.0', '2.0', '?', '1.0',\n",
       "       '2.0', '1.0', '3.0', '3.0', '2.0', '2.0', '1.0', '2.0', '2.0',\n",
       "       '2.0', '2.0', '1.0', '2.0', '3.0', '3.0', '3.0', '1.0', '?', '1.0',\n",
       "       '4.0', '2.0', '3.0', '2.0', '2.0', '2.0', '2.0', '7.0', '1.0',\n",
       "       '1.0', '1.0', '4.0', '1.0', '3.0', '1.0', '3.0', '2.0', '3.0',\n",
       "       '1.0', '3.0', '5.0', '1.0', '1.0', '1.0', '1.0', '1.0', '2.0',\n",
       "       '3.0', '3.0', '3.0', '1.0', '2.0', '1.0', '1.0', '1.0', '1.0',\n",
       "       '1.0', '1.0', '3.0', '2.0', '2.0', '?', '3.0', '5.0', '1.0', '1.0',\n",
       "       '1.0', '1.0', '28.0', '2.0', '2.0', '5.0', '2.0', '2.0', '3.0',\n",
       "       '3.0', '4.0', '2.0', '2.0', '4.0', '1.0', '4.0', '?', '1.0', '3.0',\n",
       "       '1.0', '1.0', '2.0', '1.0', '1.0', '4.0', '2.0', '1.0', '1.0',\n",
       "       '2.0', '1.0', '?', '1.0', '3.0', '2.0', '2.0', '4.0', '1.0', '5.0',\n",
       "       '3.0', '2.0', '2.0', '1.0', '1.0', '2.0', '2.0', '3.0', '2.0',\n",
       "       '3.0', '2.0', '5.0', '4.0', '2.0', '1.0', '3.0', '1.0', '2.0',\n",
       "       '2.0', '2.0', '4.0', '1.0', '1.0', '3.0', '2.0', '1.0', '4.0',\n",
       "       '4.0', '1.0', '3.0', '2.0', '2.0', '3.0', '1.0', '4.0', '3.0',\n",
       "       '1.0', '3.0', '4.0', '3.0', '3.0', '2.0', '3.0', '1.0', '3.0',\n",
       "       '2.0', '2.0', '3.0', '3.0', '3.0', '3.0', '4.0', '3.0', '2.0',\n",
       "       '2.0', '1.0', '1.0', '1.0', '1.0', '1.0', '1.0', '2.0', '1.0',\n",
       "       '2.0', '2.0', '1.0', '2.0', '2.0', '2.0', '2.0', '2.0', '2.0',\n",
       "       '2.0', '3.0', '4.0', '1.0', '6.0', '2.0', '2.0', '4.0', '3.0',\n",
       "       '2.0', '3.0', '4.0', '3.0', '5.0', '3.0', '2.0', '5.0', '4.0',\n",
       "       '2.0', '3.0', '1.0', '1.0', '2.0', '2.0', '2.0', '3.0', '3.0',\n",
       "       '3.0', '4.0', '3.0', '2.0', '5.0', '2.0', '2.0', '2.0', '2.0',\n",
       "       '2.0', '2.0', '2.0', '1.0', '6.0', '2.0', '?', '2.0', '3.0', '3.0',\n",
       "       '1.0', '1.0', '1.0', '1.0', '2.0', '3.0', '1.0', '2.0', '1.0',\n",
       "       '2.0', '3.0', '2.0', '2.0', '6.0', '2.0', '3.0', '2.0', '1.0',\n",
       "       '2.0', '4.0', '2.0', '6.0', '4.0', '1.0', '4.0', '1.0', '?', '2.0',\n",
       "       '2.0', '2.0', '3.0', '2.0', '1.0', '2.0', '3.0', '1.0', '2.0',\n",
       "       '2.0', '3.0', '2.0', '5.0', '3.0', '2.0', '4.0', '1.0', '4.0',\n",
       "       '2.0', '3.0', '3.0', '2.0', '2.0', '1.0', '4.0', '3.0', '1.0',\n",
       "       '4.0', '1.0', '1.0', '2.0', '3.0', '2.0', '1.0', '2.0', '1.0',\n",
       "       '2.0', '5.0', '3.0', '5.0', '1.0', '1.0', '2.0', '1.0', '2.0',\n",
       "       '2.0', '4.0', '2.0', '2.0', '4.0', '5.0', '1.0', '2.0', '4.0',\n",
       "       '1.0', '3.0', '3.0', '1.0', '2.0', '1.0', '2.0', '1.0', '2.0',\n",
       "       '3.0', '1.0', '2.0', '2.0', '3.0', '2.0', '5.0', '2.0', '2.0',\n",
       "       '1.0', '5.0', '1.0', '1.0', '1.0', '3.0', '2.0', '3.0', '5.0',\n",
       "       '3.0', '1.0', '2.0', '2.0', '2.0', '1.0', '3.0', '2.0', '6.0',\n",
       "       '2.0', '1.0', '2.0', '7.0', '5.0', '4.0', '1.0', '2.0', '1.0',\n",
       "       '4.0', '5.0', '3.0', '1.0', '?', '1.0', '4.0', '2.0', '4.0', '3.0',\n",
       "       '4.0', '3.0', '1.0', '?', '2.0', '3.0', '1.0', '5.0', '1.0', '2.0',\n",
       "       '2.0', '2.0', '3.0', '2.0', '7.0', '1.0', '4.0', '2.0', '1.0',\n",
       "       '4.0', '2.0', '1.0', '5.0', '3.0', '3.0', '1.0', '7.0', '1.0',\n",
       "       '6.0', '2.0', '2.0', '1.0', '2.0', '2.0', '3.0', '2.0', '2.0',\n",
       "       '3.0', '7.0', '3.0', '4.0', '3.0', '2.0', '3.0', '2.0', '3.0',\n",
       "       '8.0', '3.0', '3.0', '2.0', '?', '2.0', '1.0', '1.0', '5.0', '1.0',\n",
       "       '1.0', '1.0', '2.0', '1.0', '4.0', '1.0', '2.0', '3.0', '3.0',\n",
       "       '3.0', '2.0', '3.0', '4.0', '3.0', '2.0', '3.0', '4.0', '3.0',\n",
       "       '2.0', '1.0', '3.0', '1.0', '3.0', '9.0', '3.0', '3.0', '2.0',\n",
       "       '2.0', '3.0', '3.0', '8.0', '2.0', '2.0', '3.0', '3.0', '3.0',\n",
       "       '1.0', '2.0', '3.0', '3.0', '2.0', '2.0', '2.0', '2.0'],\n",
       "      dtype=object)"
      ]
     },
     "execution_count": 19,
     "metadata": {},
     "output_type": "execute_result"
    }
   ],
   "source": [
    "cancer_data_book_np[:,1]"
   ]
  },
  {
   "cell_type": "code",
   "execution_count": null,
   "metadata": {},
   "outputs": [],
   "source": []
  }
 ],
 "metadata": {
  "kernelspec": {
   "display_name": "Python 3",
   "language": "python",
   "name": "python3"
  },
  "language_info": {
   "codemirror_mode": {
    "name": "ipython",
    "version": 3
   },
   "file_extension": ".py",
   "mimetype": "text/x-python",
   "name": "python",
   "nbconvert_exporter": "python",
   "pygments_lexer": "ipython3",
   "version": "3.7.6"
  }
 },
 "nbformat": 4,
 "nbformat_minor": 4
}
